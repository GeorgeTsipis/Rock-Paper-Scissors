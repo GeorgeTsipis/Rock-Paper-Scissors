{
 "cells": [
  {
   "cell_type": "markdown",
   "id": "10d2b536",
   "metadata": {},
   "source": [
    "**Rock,Paper,Scissors**"
   ]
  },
  {
   "cell_type": "code",
   "execution_count": 6,
   "id": "0f0629b9",
   "metadata": {},
   "outputs": [
    {
     "name": "stdout",
     "output_type": "stream",
     "text": [
      "Enter Rock,Paper,Scissorspaper\n",
      "You chose paper, computer chose rock.\n",
      "You win\n"
     ]
    }
   ],
   "source": [
    "import random\n",
    "\n",
    "\n",
    "def get_computer_choice():\n",
    "    choices=[\"rock\",\"paper\",\"scissors\"]\n",
    "    return random.choice(choices)\n",
    "\n",
    "def decide_winner(user,computer):\n",
    "    if  user==computer:\n",
    "         return \"It's a tie!\"\n",
    "    elif (user==\"rock\" and computer==\"scissors\") or\\\n",
    "         (user==\"scissors\" and computer==\"paper\") or\\\n",
    "         (user==\"paper\" and computer==\"rock\"):  \n",
    "         return \"You win\"\n",
    "    else:\n",
    "         return \"Computer wins\"\n",
    "    \n",
    "\n",
    "user_choice=input(\"Enter Rock,Paper,Scissors\").lower()\n",
    "computer_choice=get_computer_choice()\n",
    "\n",
    "\n",
    "\n",
    "print(f\"You chose {user_choice}, computer chose {computer_choice}.\")\n",
    "print(decide_winner(user_choice,computer_choice))      "
   ]
  },
  {
   "cell_type": "code",
   "execution_count": null,
   "id": "b016a374",
   "metadata": {},
   "outputs": [],
   "source": []
  }
 ],
 "metadata": {
  "kernelspec": {
   "display_name": "Python 3 (ipykernel)",
   "language": "python",
   "name": "python3"
  },
  "language_info": {
   "codemirror_mode": {
    "name": "ipython",
    "version": 3
   },
   "file_extension": ".py",
   "mimetype": "text/x-python",
   "name": "python",
   "nbconvert_exporter": "python",
   "pygments_lexer": "ipython3",
   "version": "3.11.5"
  }
 },
 "nbformat": 4,
 "nbformat_minor": 5
}
